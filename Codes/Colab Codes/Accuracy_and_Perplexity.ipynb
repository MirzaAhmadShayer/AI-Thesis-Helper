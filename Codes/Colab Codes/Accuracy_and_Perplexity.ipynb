{
  "nbformat": 4,
  "nbformat_minor": 0,
  "metadata": {
    "colab": {
      "provenance": []
    },
    "kernelspec": {
      "name": "python3",
      "display_name": "Python 3"
    },
    "language_info": {
      "name": "python"
    },
    "widgets": {
      "application/vnd.jupyter.widget-state+json": {
        "a014880f2c034c0688297f3b77afe57f": {
          "model_module": "@jupyter-widgets/controls",
          "model_name": "HBoxModel",
          "model_module_version": "1.5.0",
          "state": {
            "_dom_classes": [],
            "_model_module": "@jupyter-widgets/controls",
            "_model_module_version": "1.5.0",
            "_model_name": "HBoxModel",
            "_view_count": null,
            "_view_module": "@jupyter-widgets/controls",
            "_view_module_version": "1.5.0",
            "_view_name": "HBoxView",
            "box_style": "",
            "children": [
              "IPY_MODEL_d6b8248508454134b540ddbeb8284f1a",
              "IPY_MODEL_2f9148fb824d4e9aa4862004ac272467",
              "IPY_MODEL_5569a3f1be714f258e34795ded4e578d"
            ],
            "layout": "IPY_MODEL_0da1215e359c494d91c6269a20a837fd"
          }
        },
        "d6b8248508454134b540ddbeb8284f1a": {
          "model_module": "@jupyter-widgets/controls",
          "model_name": "HTMLModel",
          "model_module_version": "1.5.0",
          "state": {
            "_dom_classes": [],
            "_model_module": "@jupyter-widgets/controls",
            "_model_module_version": "1.5.0",
            "_model_name": "HTMLModel",
            "_view_count": null,
            "_view_module": "@jupyter-widgets/controls",
            "_view_module_version": "1.5.0",
            "_view_name": "HTMLView",
            "description": "",
            "description_tooltip": null,
            "layout": "IPY_MODEL_da42e19be42549e387e7e0efc978d8d9",
            "placeholder": "​",
            "style": "IPY_MODEL_a353c34f26e34038887c809cb9616d60",
            "value": "100%"
          }
        },
        "2f9148fb824d4e9aa4862004ac272467": {
          "model_module": "@jupyter-widgets/controls",
          "model_name": "FloatProgressModel",
          "model_module_version": "1.5.0",
          "state": {
            "_dom_classes": [],
            "_model_module": "@jupyter-widgets/controls",
            "_model_module_version": "1.5.0",
            "_model_name": "FloatProgressModel",
            "_view_count": null,
            "_view_module": "@jupyter-widgets/controls",
            "_view_module_version": "1.5.0",
            "_view_name": "ProgressView",
            "bar_style": "success",
            "description": "",
            "description_tooltip": null,
            "layout": "IPY_MODEL_b443cb63a2ff4403a76bc6e3ffda61c1",
            "max": 1,
            "min": 0,
            "orientation": "horizontal",
            "style": "IPY_MODEL_b26831e3150e4e57aaa44c1fe6684a0b",
            "value": 1
          }
        },
        "5569a3f1be714f258e34795ded4e578d": {
          "model_module": "@jupyter-widgets/controls",
          "model_name": "HTMLModel",
          "model_module_version": "1.5.0",
          "state": {
            "_dom_classes": [],
            "_model_module": "@jupyter-widgets/controls",
            "_model_module_version": "1.5.0",
            "_model_name": "HTMLModel",
            "_view_count": null,
            "_view_module": "@jupyter-widgets/controls",
            "_view_module_version": "1.5.0",
            "_view_name": "HTMLView",
            "description": "",
            "description_tooltip": null,
            "layout": "IPY_MODEL_e7093037faf446c38ac196b501ed9170",
            "placeholder": "​",
            "style": "IPY_MODEL_15ff1b6207df4615bef48e2bc17f973e",
            "value": " 1/1 [00:08&lt;00:00,  8.42s/it]"
          }
        },
        "0da1215e359c494d91c6269a20a837fd": {
          "model_module": "@jupyter-widgets/base",
          "model_name": "LayoutModel",
          "model_module_version": "1.2.0",
          "state": {
            "_model_module": "@jupyter-widgets/base",
            "_model_module_version": "1.2.0",
            "_model_name": "LayoutModel",
            "_view_count": null,
            "_view_module": "@jupyter-widgets/base",
            "_view_module_version": "1.2.0",
            "_view_name": "LayoutView",
            "align_content": null,
            "align_items": null,
            "align_self": null,
            "border": null,
            "bottom": null,
            "display": null,
            "flex": null,
            "flex_flow": null,
            "grid_area": null,
            "grid_auto_columns": null,
            "grid_auto_flow": null,
            "grid_auto_rows": null,
            "grid_column": null,
            "grid_gap": null,
            "grid_row": null,
            "grid_template_areas": null,
            "grid_template_columns": null,
            "grid_template_rows": null,
            "height": null,
            "justify_content": null,
            "justify_items": null,
            "left": null,
            "margin": null,
            "max_height": null,
            "max_width": null,
            "min_height": null,
            "min_width": null,
            "object_fit": null,
            "object_position": null,
            "order": null,
            "overflow": null,
            "overflow_x": null,
            "overflow_y": null,
            "padding": null,
            "right": null,
            "top": null,
            "visibility": null,
            "width": null
          }
        },
        "da42e19be42549e387e7e0efc978d8d9": {
          "model_module": "@jupyter-widgets/base",
          "model_name": "LayoutModel",
          "model_module_version": "1.2.0",
          "state": {
            "_model_module": "@jupyter-widgets/base",
            "_model_module_version": "1.2.0",
            "_model_name": "LayoutModel",
            "_view_count": null,
            "_view_module": "@jupyter-widgets/base",
            "_view_module_version": "1.2.0",
            "_view_name": "LayoutView",
            "align_content": null,
            "align_items": null,
            "align_self": null,
            "border": null,
            "bottom": null,
            "display": null,
            "flex": null,
            "flex_flow": null,
            "grid_area": null,
            "grid_auto_columns": null,
            "grid_auto_flow": null,
            "grid_auto_rows": null,
            "grid_column": null,
            "grid_gap": null,
            "grid_row": null,
            "grid_template_areas": null,
            "grid_template_columns": null,
            "grid_template_rows": null,
            "height": null,
            "justify_content": null,
            "justify_items": null,
            "left": null,
            "margin": null,
            "max_height": null,
            "max_width": null,
            "min_height": null,
            "min_width": null,
            "object_fit": null,
            "object_position": null,
            "order": null,
            "overflow": null,
            "overflow_x": null,
            "overflow_y": null,
            "padding": null,
            "right": null,
            "top": null,
            "visibility": null,
            "width": null
          }
        },
        "a353c34f26e34038887c809cb9616d60": {
          "model_module": "@jupyter-widgets/controls",
          "model_name": "DescriptionStyleModel",
          "model_module_version": "1.5.0",
          "state": {
            "_model_module": "@jupyter-widgets/controls",
            "_model_module_version": "1.5.0",
            "_model_name": "DescriptionStyleModel",
            "_view_count": null,
            "_view_module": "@jupyter-widgets/base",
            "_view_module_version": "1.2.0",
            "_view_name": "StyleView",
            "description_width": ""
          }
        },
        "b443cb63a2ff4403a76bc6e3ffda61c1": {
          "model_module": "@jupyter-widgets/base",
          "model_name": "LayoutModel",
          "model_module_version": "1.2.0",
          "state": {
            "_model_module": "@jupyter-widgets/base",
            "_model_module_version": "1.2.0",
            "_model_name": "LayoutModel",
            "_view_count": null,
            "_view_module": "@jupyter-widgets/base",
            "_view_module_version": "1.2.0",
            "_view_name": "LayoutView",
            "align_content": null,
            "align_items": null,
            "align_self": null,
            "border": null,
            "bottom": null,
            "display": null,
            "flex": null,
            "flex_flow": null,
            "grid_area": null,
            "grid_auto_columns": null,
            "grid_auto_flow": null,
            "grid_auto_rows": null,
            "grid_column": null,
            "grid_gap": null,
            "grid_row": null,
            "grid_template_areas": null,
            "grid_template_columns": null,
            "grid_template_rows": null,
            "height": null,
            "justify_content": null,
            "justify_items": null,
            "left": null,
            "margin": null,
            "max_height": null,
            "max_width": null,
            "min_height": null,
            "min_width": null,
            "object_fit": null,
            "object_position": null,
            "order": null,
            "overflow": null,
            "overflow_x": null,
            "overflow_y": null,
            "padding": null,
            "right": null,
            "top": null,
            "visibility": null,
            "width": null
          }
        },
        "b26831e3150e4e57aaa44c1fe6684a0b": {
          "model_module": "@jupyter-widgets/controls",
          "model_name": "ProgressStyleModel",
          "model_module_version": "1.5.0",
          "state": {
            "_model_module": "@jupyter-widgets/controls",
            "_model_module_version": "1.5.0",
            "_model_name": "ProgressStyleModel",
            "_view_count": null,
            "_view_module": "@jupyter-widgets/base",
            "_view_module_version": "1.2.0",
            "_view_name": "StyleView",
            "bar_color": null,
            "description_width": ""
          }
        },
        "e7093037faf446c38ac196b501ed9170": {
          "model_module": "@jupyter-widgets/base",
          "model_name": "LayoutModel",
          "model_module_version": "1.2.0",
          "state": {
            "_model_module": "@jupyter-widgets/base",
            "_model_module_version": "1.2.0",
            "_model_name": "LayoutModel",
            "_view_count": null,
            "_view_module": "@jupyter-widgets/base",
            "_view_module_version": "1.2.0",
            "_view_name": "LayoutView",
            "align_content": null,
            "align_items": null,
            "align_self": null,
            "border": null,
            "bottom": null,
            "display": null,
            "flex": null,
            "flex_flow": null,
            "grid_area": null,
            "grid_auto_columns": null,
            "grid_auto_flow": null,
            "grid_auto_rows": null,
            "grid_column": null,
            "grid_gap": null,
            "grid_row": null,
            "grid_template_areas": null,
            "grid_template_columns": null,
            "grid_template_rows": null,
            "height": null,
            "justify_content": null,
            "justify_items": null,
            "left": null,
            "margin": null,
            "max_height": null,
            "max_width": null,
            "min_height": null,
            "min_width": null,
            "object_fit": null,
            "object_position": null,
            "order": null,
            "overflow": null,
            "overflow_x": null,
            "overflow_y": null,
            "padding": null,
            "right": null,
            "top": null,
            "visibility": null,
            "width": null
          }
        },
        "15ff1b6207df4615bef48e2bc17f973e": {
          "model_module": "@jupyter-widgets/controls",
          "model_name": "DescriptionStyleModel",
          "model_module_version": "1.5.0",
          "state": {
            "_model_module": "@jupyter-widgets/controls",
            "_model_module_version": "1.5.0",
            "_model_name": "DescriptionStyleModel",
            "_view_count": null,
            "_view_module": "@jupyter-widgets/base",
            "_view_module_version": "1.2.0",
            "_view_name": "StyleView",
            "description_width": ""
          }
        },
        "22459da1fd3b438f91a2d8a0baabe863": {
          "model_module": "@jupyter-widgets/controls",
          "model_name": "HBoxModel",
          "model_module_version": "1.5.0",
          "state": {
            "_dom_classes": [],
            "_model_module": "@jupyter-widgets/controls",
            "_model_module_version": "1.5.0",
            "_model_name": "HBoxModel",
            "_view_count": null,
            "_view_module": "@jupyter-widgets/controls",
            "_view_module_version": "1.5.0",
            "_view_name": "HBoxView",
            "box_style": "",
            "children": [
              "IPY_MODEL_27d4ebde9d984147993fd39e32a46cc5",
              "IPY_MODEL_b853ac545a444bd2a8fb2e408eb75a65",
              "IPY_MODEL_41e87c0215444fb595ce57cd6948cbfa"
            ],
            "layout": "IPY_MODEL_4136f136707b46ab947fe5164d09504a"
          }
        },
        "27d4ebde9d984147993fd39e32a46cc5": {
          "model_module": "@jupyter-widgets/controls",
          "model_name": "HTMLModel",
          "model_module_version": "1.5.0",
          "state": {
            "_dom_classes": [],
            "_model_module": "@jupyter-widgets/controls",
            "_model_module_version": "1.5.0",
            "_model_name": "HTMLModel",
            "_view_count": null,
            "_view_module": "@jupyter-widgets/controls",
            "_view_module_version": "1.5.0",
            "_view_name": "HTMLView",
            "description": "",
            "description_tooltip": null,
            "layout": "IPY_MODEL_87c9683f5c064dc6a9ffd5ec11b1256f",
            "placeholder": "​",
            "style": "IPY_MODEL_5a6f71ebd8564b4daf351a782e02226c",
            "value": "100%"
          }
        },
        "b853ac545a444bd2a8fb2e408eb75a65": {
          "model_module": "@jupyter-widgets/controls",
          "model_name": "FloatProgressModel",
          "model_module_version": "1.5.0",
          "state": {
            "_dom_classes": [],
            "_model_module": "@jupyter-widgets/controls",
            "_model_module_version": "1.5.0",
            "_model_name": "FloatProgressModel",
            "_view_count": null,
            "_view_module": "@jupyter-widgets/controls",
            "_view_module_version": "1.5.0",
            "_view_name": "ProgressView",
            "bar_style": "success",
            "description": "",
            "description_tooltip": null,
            "layout": "IPY_MODEL_a9b27c14e6e44fc88494afb5dd3a00d7",
            "max": 1,
            "min": 0,
            "orientation": "horizontal",
            "style": "IPY_MODEL_b49718dba6994a2594186c35116c32a1",
            "value": 1
          }
        },
        "41e87c0215444fb595ce57cd6948cbfa": {
          "model_module": "@jupyter-widgets/controls",
          "model_name": "HTMLModel",
          "model_module_version": "1.5.0",
          "state": {
            "_dom_classes": [],
            "_model_module": "@jupyter-widgets/controls",
            "_model_module_version": "1.5.0",
            "_model_name": "HTMLModel",
            "_view_count": null,
            "_view_module": "@jupyter-widgets/controls",
            "_view_module_version": "1.5.0",
            "_view_name": "HTMLView",
            "description": "",
            "description_tooltip": null,
            "layout": "IPY_MODEL_2eacc9706354466c9b631a0d8ae340f1",
            "placeholder": "​",
            "style": "IPY_MODEL_dc7e20ba4d534081bfea45c92d177186",
            "value": " 1/1 [00:00&lt;00:00, 20.69it/s]"
          }
        },
        "4136f136707b46ab947fe5164d09504a": {
          "model_module": "@jupyter-widgets/base",
          "model_name": "LayoutModel",
          "model_module_version": "1.2.0",
          "state": {
            "_model_module": "@jupyter-widgets/base",
            "_model_module_version": "1.2.0",
            "_model_name": "LayoutModel",
            "_view_count": null,
            "_view_module": "@jupyter-widgets/base",
            "_view_module_version": "1.2.0",
            "_view_name": "LayoutView",
            "align_content": null,
            "align_items": null,
            "align_self": null,
            "border": null,
            "bottom": null,
            "display": null,
            "flex": null,
            "flex_flow": null,
            "grid_area": null,
            "grid_auto_columns": null,
            "grid_auto_flow": null,
            "grid_auto_rows": null,
            "grid_column": null,
            "grid_gap": null,
            "grid_row": null,
            "grid_template_areas": null,
            "grid_template_columns": null,
            "grid_template_rows": null,
            "height": null,
            "justify_content": null,
            "justify_items": null,
            "left": null,
            "margin": null,
            "max_height": null,
            "max_width": null,
            "min_height": null,
            "min_width": null,
            "object_fit": null,
            "object_position": null,
            "order": null,
            "overflow": null,
            "overflow_x": null,
            "overflow_y": null,
            "padding": null,
            "right": null,
            "top": null,
            "visibility": null,
            "width": null
          }
        },
        "87c9683f5c064dc6a9ffd5ec11b1256f": {
          "model_module": "@jupyter-widgets/base",
          "model_name": "LayoutModel",
          "model_module_version": "1.2.0",
          "state": {
            "_model_module": "@jupyter-widgets/base",
            "_model_module_version": "1.2.0",
            "_model_name": "LayoutModel",
            "_view_count": null,
            "_view_module": "@jupyter-widgets/base",
            "_view_module_version": "1.2.0",
            "_view_name": "LayoutView",
            "align_content": null,
            "align_items": null,
            "align_self": null,
            "border": null,
            "bottom": null,
            "display": null,
            "flex": null,
            "flex_flow": null,
            "grid_area": null,
            "grid_auto_columns": null,
            "grid_auto_flow": null,
            "grid_auto_rows": null,
            "grid_column": null,
            "grid_gap": null,
            "grid_row": null,
            "grid_template_areas": null,
            "grid_template_columns": null,
            "grid_template_rows": null,
            "height": null,
            "justify_content": null,
            "justify_items": null,
            "left": null,
            "margin": null,
            "max_height": null,
            "max_width": null,
            "min_height": null,
            "min_width": null,
            "object_fit": null,
            "object_position": null,
            "order": null,
            "overflow": null,
            "overflow_x": null,
            "overflow_y": null,
            "padding": null,
            "right": null,
            "top": null,
            "visibility": null,
            "width": null
          }
        },
        "5a6f71ebd8564b4daf351a782e02226c": {
          "model_module": "@jupyter-widgets/controls",
          "model_name": "DescriptionStyleModel",
          "model_module_version": "1.5.0",
          "state": {
            "_model_module": "@jupyter-widgets/controls",
            "_model_module_version": "1.5.0",
            "_model_name": "DescriptionStyleModel",
            "_view_count": null,
            "_view_module": "@jupyter-widgets/base",
            "_view_module_version": "1.2.0",
            "_view_name": "StyleView",
            "description_width": ""
          }
        },
        "a9b27c14e6e44fc88494afb5dd3a00d7": {
          "model_module": "@jupyter-widgets/base",
          "model_name": "LayoutModel",
          "model_module_version": "1.2.0",
          "state": {
            "_model_module": "@jupyter-widgets/base",
            "_model_module_version": "1.2.0",
            "_model_name": "LayoutModel",
            "_view_count": null,
            "_view_module": "@jupyter-widgets/base",
            "_view_module_version": "1.2.0",
            "_view_name": "LayoutView",
            "align_content": null,
            "align_items": null,
            "align_self": null,
            "border": null,
            "bottom": null,
            "display": null,
            "flex": null,
            "flex_flow": null,
            "grid_area": null,
            "grid_auto_columns": null,
            "grid_auto_flow": null,
            "grid_auto_rows": null,
            "grid_column": null,
            "grid_gap": null,
            "grid_row": null,
            "grid_template_areas": null,
            "grid_template_columns": null,
            "grid_template_rows": null,
            "height": null,
            "justify_content": null,
            "justify_items": null,
            "left": null,
            "margin": null,
            "max_height": null,
            "max_width": null,
            "min_height": null,
            "min_width": null,
            "object_fit": null,
            "object_position": null,
            "order": null,
            "overflow": null,
            "overflow_x": null,
            "overflow_y": null,
            "padding": null,
            "right": null,
            "top": null,
            "visibility": null,
            "width": null
          }
        },
        "b49718dba6994a2594186c35116c32a1": {
          "model_module": "@jupyter-widgets/controls",
          "model_name": "ProgressStyleModel",
          "model_module_version": "1.5.0",
          "state": {
            "_model_module": "@jupyter-widgets/controls",
            "_model_module_version": "1.5.0",
            "_model_name": "ProgressStyleModel",
            "_view_count": null,
            "_view_module": "@jupyter-widgets/base",
            "_view_module_version": "1.2.0",
            "_view_name": "StyleView",
            "bar_color": null,
            "description_width": ""
          }
        },
        "2eacc9706354466c9b631a0d8ae340f1": {
          "model_module": "@jupyter-widgets/base",
          "model_name": "LayoutModel",
          "model_module_version": "1.2.0",
          "state": {
            "_model_module": "@jupyter-widgets/base",
            "_model_module_version": "1.2.0",
            "_model_name": "LayoutModel",
            "_view_count": null,
            "_view_module": "@jupyter-widgets/base",
            "_view_module_version": "1.2.0",
            "_view_name": "LayoutView",
            "align_content": null,
            "align_items": null,
            "align_self": null,
            "border": null,
            "bottom": null,
            "display": null,
            "flex": null,
            "flex_flow": null,
            "grid_area": null,
            "grid_auto_columns": null,
            "grid_auto_flow": null,
            "grid_auto_rows": null,
            "grid_column": null,
            "grid_gap": null,
            "grid_row": null,
            "grid_template_areas": null,
            "grid_template_columns": null,
            "grid_template_rows": null,
            "height": null,
            "justify_content": null,
            "justify_items": null,
            "left": null,
            "margin": null,
            "max_height": null,
            "max_width": null,
            "min_height": null,
            "min_width": null,
            "object_fit": null,
            "object_position": null,
            "order": null,
            "overflow": null,
            "overflow_x": null,
            "overflow_y": null,
            "padding": null,
            "right": null,
            "top": null,
            "visibility": null,
            "width": null
          }
        },
        "dc7e20ba4d534081bfea45c92d177186": {
          "model_module": "@jupyter-widgets/controls",
          "model_name": "DescriptionStyleModel",
          "model_module_version": "1.5.0",
          "state": {
            "_model_module": "@jupyter-widgets/controls",
            "_model_module_version": "1.5.0",
            "_model_name": "DescriptionStyleModel",
            "_view_count": null,
            "_view_module": "@jupyter-widgets/base",
            "_view_module_version": "1.2.0",
            "_view_name": "StyleView",
            "description_width": ""
          }
        }
      }
    }
  },
  "cells": [
    {
      "cell_type": "markdown",
      "source": [
        "Uploadng Model"
      ],
      "metadata": {
        "id": "iXKMSGdJgbUA"
      }
    },
    {
      "cell_type": "code",
      "execution_count": null,
      "metadata": {
        "colab": {
          "base_uri": "https://localhost:8080/"
        },
        "id": "IvdRsaHdTjiW",
        "outputId": "da357fa4-4437-4d7c-edb4-1b8ed592d7f2"
      },
      "outputs": [
        {
          "output_type": "stream",
          "name": "stdout",
          "text": [
            "Archive:  /content/drive/MyDrive/AI_Thesis_Helper/fine_tuned_gpt2_final.zip\n",
            "   creating: /content/fine_tuned_gpt2_final/fine-tuned-gpt2_final/\n",
            "  inflating: /content/fine_tuned_gpt2_final/fine-tuned-gpt2_final/config.json  \n",
            "  inflating: /content/fine_tuned_gpt2_final/fine-tuned-gpt2_final/tokenizer_config.json  \n",
            "  inflating: /content/fine_tuned_gpt2_final/fine-tuned-gpt2_final/vocab.json  \n",
            "  inflating: /content/fine_tuned_gpt2_final/fine-tuned-gpt2_final/special_tokens_map.json  \n",
            "  inflating: /content/fine_tuned_gpt2_final/fine-tuned-gpt2_final/model.safetensors  \n",
            "  inflating: /content/fine_tuned_gpt2_final/fine-tuned-gpt2_final/merges.txt  \n",
            "  inflating: /content/fine_tuned_gpt2_final/fine-tuned-gpt2_final/generation_config.json  \n"
          ]
        }
      ],
      "source": [
        "!unzip /content/drive/MyDrive/AI_Thesis_Helper/fine_tuned_gpt2_final.zip -d /content/fine_tuned_gpt2_final"
      ]
    },
    {
      "cell_type": "code",
      "source": [
        "from transformers import pipeline, GPT2LMHeadModel, GPT2Tokenizer\n",
        "import torch"
      ],
      "metadata": {
        "id": "1_pm38o9W7Iq"
      },
      "execution_count": null,
      "outputs": []
    },
    {
      "cell_type": "code",
      "source": [
        "model = GPT2LMHeadModel.from_pretrained('/content/fine_tuned_gpt2_final/fine-tuned-gpt2_final')\n",
        "tokenizer = GPT2Tokenizer.from_pretrained('/content/fine_tuned_gpt2_final/fine-tuned-gpt2_final')"
      ],
      "metadata": {
        "id": "7lE5Jz_rXXxH"
      },
      "execution_count": null,
      "outputs": []
    },
    {
      "cell_type": "code",
      "source": [
        "generator = pipeline('text-generation', model=model, tokenizer=tokenizer)"
      ],
      "metadata": {
        "id": "XBIdzB4eZnDi"
      },
      "execution_count": null,
      "outputs": []
    },
    {
      "cell_type": "code",
      "source": [
        "#Changable Variables\n",
        "maximum_length = 150\n",
        "number_return_sequences = 5\n",
        "\n",
        "def generate_text(Input):\n",
        "    responses = generator(Input, max_length=maximum_length, num_return_sequences=number_return_sequences)\n",
        "    generated_text = responses[0]['generated_text']\n",
        "    return \"\\n\\n\".join([responses['generated_text'] for responses in responses])"
      ],
      "metadata": {
        "id": "JwVsT8SuXpx8"
      },
      "execution_count": null,
      "outputs": []
    },
    {
      "cell_type": "markdown",
      "source": [
        "Precision, Recall and F1 Score"
      ],
      "metadata": {
        "id": "JYke9fiAgXZI"
      }
    },
    {
      "cell_type": "code",
      "source": [
        "from bert_score import score"
      ],
      "metadata": {
        "id": "p1ePmqEMcp0D"
      },
      "execution_count": null,
      "outputs": []
    },
    {
      "cell_type": "code",
      "source": [
        "generated_response = [\"\"\"\n",
        "Electrical Circuits and Solar Cells Papers   Current theoretical models of electrical circuits suggest that they are\n",
        "expensive-formidable and efficient for designing and maintaining\n",
        "procedures. However, research on generating electrical circuits is limited because of\n",
        "significant constraints on the scale and complexity of design and distribution of\n",
        "conductors and solar cells and their efficiency as a whole. In this work, we\n",
        "propose a novel non-linear linear circuit design model, a\n",
        "calculable non-inverse linear circuit (NC-C) model to analyze the electrical\n",
        "circuits of different surfaces. We characterize the circuit design with empirical\n",
        "results to compare with prior experiments. As such, NC-C allows the\n",
        "development of circuits capable of generating electrical\n",
        "\n",
        "Electrical Circuits and Solar Cells Papers   Optical circuits (OCs) is defined as a\n",
        "single-atom, compact optical device that encodes energy at the point of\n",
        "the interaction. OSCs generate power by generating light from light-emitting\n",
        "controllers, where the energy is extracted by applying the signal\n",
        "from a photovoltaic generator. However, they are limited to generating light and\n",
        "concentration amounts to negligible levels. In this paper, we\n",
        "introduce optical circuits, which are the first to build an optical\n",
        "circuit. Our proposed optical circuits implement a conventional photovoltaic\n",
        "generator with conventional power sources and are able to reduce the\n",
        "power need for photovolt\n",
        "\n",
        "Electrical Circuits and Solar Cells Papers   Circuits, such as the central bank, allow the electronic and industrial\n",
        "regime to be monitored, and thus provide an easy way for the\n",
        "environmental regulators to monitor economic and political events through\n",
        "circuits. Circuits are made of two fundamental elements:\n",
        "(1) The ground level control of the circuit (the ground) and a\n",
        "temperature control (the temperature). The ground in the electrical circuit is\n",
        "an inner layer (the ground) that can be connected to the electrical circuits,\n",
        "and therefore contains electrical and chemical signals that can be\n",
        "controlled. The ground in the solar panel is a sensor and heat sensors that will\n",
        "monitor the temperature in the laboratory. The ground\n",
        "\n",
        "Electrical Circuits and Solar Cells Papers   This paper presents the first electrical circuits to be published in electronic papers in the last few years. In this paper, we study electro-chemical circuits, which are a natural building block for\n",
        "the current. Such circuits can be used as the basis for circuits developed by\n",
        "accelerating current generation, as a substitute for conventional\n",
        "current generators, and to enable an extended range of applications. We\n",
        "first conduct an exploration of electrical circuits and solar cells using\n",
        "computationally simple computer simulations. The simulations show that this\n",
        "paper has high potential for application to all practical purposes. Finally, due\n",
        "to their design in nature, the simulation presents multiple potential applications in\n",
        "design of practical electronic circuits.\n",
        "\n",
        "Electrical Circuits and Solar Cells Papers For Experimental Fusion\n",
        "  Applications in Physics, Physiology and Mathematics   Recent progress has been made by using experimental magnetic\n",
        "circuits among a few materials in numerical simulations to study\n",
        "and validate their electrical properties. While this area of research\n",
        "is not necessarily a good candidate for the application of electric physics,\n",
        "the application of solar cell in science and engineering is also still open, for instance\n",
        "in the work in biology of a type of light-driven superconductivity. In this paper,\n",
        "(i) the first experiments to support the use of electric circuits as an\n",
        "architecture of the electrostatic fusion of the two electrostatic\n",
        "structure based on solar cells in the literature and (\n",
        "\"\"\"]"
      ],
      "metadata": {
        "id": "8_uuPdRKqODk"
      },
      "execution_count": null,
      "outputs": []
    },
    {
      "cell_type": "code",
      "source": [
        "reference_response = [\"\"\"\n",
        "Here are some key research papers and resources related to electrical circuits and solar cells:\n",
        "\n",
        "Electrical Circuits\n",
        "\"A Survey of Circuit Design and Implementation Techniques for Low-Power Applications\"\n",
        "\n",
        "Authors: W. M. S. Lai, Y. M. Lee, M. W. Lee\n",
        "Journal: IEEE Transactions on Circuits and Systems\n",
        "Summary: This paper surveys various techniques for designing low-power electronic circuits, including circuit-level and system-level approaches.\n",
        "\"Advanced Integrated Circuits and Systems for Power Management Applications\"\n",
        "\n",
        "Authors: J. T. C. Lee, C. L. Huang, H. C. Chen\n",
        "Journal: IEEE Transactions on Power Electronics\n",
        "Summary: Focuses on the design and integration of circuits and systems for managing power efficiently in various applications.\n",
        "\"Digital Integrated Circuits: A Design Perspective\"\n",
        "\n",
        "Authors: Jan M. Rabaey, Anantha Chandrakasan, Borivoje Nikolic\n",
        "Publisher: Prentice Hall\n",
        "Summary: A comprehensive textbook covering the design and analysis of digital integrated circuits.\n",
        "\"High-Speed Digital Design: A Handbook of Black Magic\"\n",
        "\n",
        "Authors: Howard Johnson, Martin Graham\n",
        "Publisher: Prentice Hall\n",
        "Summary: Offers practical advice on designing high-speed digital circuits, including topics on signal integrity and high-speed interfaces.\n",
        "\"Circuit Theory and Design\"\n",
        "\n",
        "Authors: William H. Hayt, Jack E. Kemmerly, Steven M. Durbin\n",
        "Publisher: McGraw-Hill\n",
        "Summary: A textbook providing fundamental concepts and design principles for electrical circuits.\n",
        "Solar Cells\n",
        "\"Perovskite Solar Cells: An Overview of the Current Status\"\n",
        "\n",
        "Authors: M. A. Green, E. Emery, Y. Hishikawa, W. Warta, and J. P. Mayer\n",
        "Journal: Progress in Photovoltaics: Research and Applications\n",
        "Summary: Reviews the development and performance of perovskite solar cells, including material science and efficiency improvements.\n",
        "\"Organic Photovoltaics: Mechanisms, Materials, and Devices\"\n",
        "\n",
        "Authors: J. M. Hodgkiss, C. J. Brabec, V. Dyakonov\n",
        "Journal: Advanced Materials\n",
        "Summary: Discusses the mechanisms behind organic photovoltaics, including material types, device architectures, and performance metrics.\n",
        "\"A Comprehensive Review of Dye-Sensitized Solar Cells\"\n",
        "\n",
        "Authors: M. Grätzel\n",
        "Journal: Journal of Photochemistry and Photobiology C: Photochemistry Reviews\n",
        "Summary: Provides an in-depth review of dye-sensitized solar cells, including their design, performance, and applications.\n",
        "\"Solar Cell Efficiency Tables (Version 58)\"\n",
        "\n",
        "Authors: A. P. Honsberg, S. R. Kurtz\n",
        "Journal: Progress in Photovoltaics: Research and Applications\n",
        "Summary: A regularly updated reference for the efficiency of different solar cell technologies and their advancements.\n",
        "\"The Physics of Solar Cells\"\n",
        "\n",
        "Authors: Peter Würfel\n",
        "Publisher: Wiley-VCH\n",
        "Summary: Offers a detailed explanation of the physical principles underlying solar cells and their performance characteristics.\n",
        "General Resources\n",
        "IEEE Xplore Digital Library: A vast repository of papers on electrical circuits and solar cells.\n",
        "Google Scholar: Useful for finding research papers and citations.\n",
        "ScienceDirect: Provides access to a wide range of scientific papers, including those on electrical circuits and solar technologies.\n",
        "These papers and resources should provide a good starting point for understanding and researching electrical circuits and solar cells.\n",
        "\"\"\"]"
      ],
      "metadata": {
        "id": "aYs3tFYdYfJj"
      },
      "execution_count": null,
      "outputs": []
    },
    {
      "cell_type": "code",
      "source": [
        "# Calculate BERTScore\n",
        "P, R, F1 = score(generated_response, reference_response, lang=\"en\", verbose=True)"
      ],
      "metadata": {
        "colab": {
          "base_uri": "https://localhost:8080/",
          "height": 205,
          "referenced_widgets": [
            "a014880f2c034c0688297f3b77afe57f",
            "d6b8248508454134b540ddbeb8284f1a",
            "2f9148fb824d4e9aa4862004ac272467",
            "5569a3f1be714f258e34795ded4e578d",
            "0da1215e359c494d91c6269a20a837fd",
            "da42e19be42549e387e7e0efc978d8d9",
            "a353c34f26e34038887c809cb9616d60",
            "b443cb63a2ff4403a76bc6e3ffda61c1",
            "b26831e3150e4e57aaa44c1fe6684a0b",
            "e7093037faf446c38ac196b501ed9170",
            "15ff1b6207df4615bef48e2bc17f973e",
            "22459da1fd3b438f91a2d8a0baabe863",
            "27d4ebde9d984147993fd39e32a46cc5",
            "b853ac545a444bd2a8fb2e408eb75a65",
            "41e87c0215444fb595ce57cd6948cbfa",
            "4136f136707b46ab947fe5164d09504a",
            "87c9683f5c064dc6a9ffd5ec11b1256f",
            "5a6f71ebd8564b4daf351a782e02226c",
            "a9b27c14e6e44fc88494afb5dd3a00d7",
            "b49718dba6994a2594186c35116c32a1",
            "2eacc9706354466c9b631a0d8ae340f1",
            "dc7e20ba4d534081bfea45c92d177186"
          ]
        },
        "id": "mnxAanRzcrtq",
        "outputId": "913d055b-b50b-4fdf-e907-4e387c97bf50"
      },
      "execution_count": null,
      "outputs": [
        {
          "output_type": "stream",
          "name": "stderr",
          "text": [
            "Some weights of RobertaModel were not initialized from the model checkpoint at roberta-large and are newly initialized: ['roberta.pooler.dense.bias', 'roberta.pooler.dense.weight']\n",
            "You should probably TRAIN this model on a down-stream task to be able to use it for predictions and inference.\n"
          ]
        },
        {
          "output_type": "stream",
          "name": "stdout",
          "text": [
            "calculating scores...\n",
            "computing bert embedding.\n"
          ]
        },
        {
          "output_type": "display_data",
          "data": {
            "text/plain": [
              "  0%|          | 0/1 [00:00<?, ?it/s]"
            ],
            "application/vnd.jupyter.widget-view+json": {
              "version_major": 2,
              "version_minor": 0,
              "model_id": "a014880f2c034c0688297f3b77afe57f"
            }
          },
          "metadata": {}
        },
        {
          "output_type": "stream",
          "name": "stdout",
          "text": [
            "computing greedy matching.\n"
          ]
        },
        {
          "output_type": "display_data",
          "data": {
            "text/plain": [
              "  0%|          | 0/1 [00:00<?, ?it/s]"
            ],
            "application/vnd.jupyter.widget-view+json": {
              "version_major": 2,
              "version_minor": 0,
              "model_id": "22459da1fd3b438f91a2d8a0baabe863"
            }
          },
          "metadata": {}
        },
        {
          "output_type": "stream",
          "name": "stdout",
          "text": [
            "done in 8.48 seconds, 0.12 sentences/sec\n"
          ]
        }
      ]
    },
    {
      "cell_type": "code",
      "source": [
        "print(f\"Precision: {P.mean():.3f}\")\n",
        "print(f\"Recall: {R.mean():.3f}\")\n",
        "print(f\"F1: {F1.mean():.3f}\")"
      ],
      "metadata": {
        "colab": {
          "base_uri": "https://localhost:8080/"
        },
        "id": "brzWtwJ_dXHk",
        "outputId": "4d7f9fed-016b-4433-c83b-d3e15941cfe4"
      },
      "execution_count": null,
      "outputs": [
        {
          "output_type": "stream",
          "name": "stdout",
          "text": [
            "Precision: 0.802\n",
            "Recall: 0.781\n",
            "F1: 0.791\n"
          ]
        }
      ]
    },
    {
      "cell_type": "markdown",
      "source": [
        "Perplexity"
      ],
      "metadata": {
        "id": "ZLpmeEXDdPW-"
      }
    },
    {
      "cell_type": "code",
      "source": [
        "def calculate_perplexity(text, model, tokenizer):\n",
        "    inputs = tokenizer(text, return_tensors=\"pt\")\n",
        "    with torch.no_grad():\n",
        "        outputs = model(**inputs, labels=inputs[\"input_ids\"])\n",
        "    loss = outputs.loss\n",
        "    perplexity = torch.exp(loss)\n",
        "    return perplexity.item()"
      ],
      "metadata": {
        "id": "66lYIwkdW7DS"
      },
      "execution_count": null,
      "outputs": []
    },
    {
      "cell_type": "code",
      "source": [
        "generated_text = \"\"\"\n",
        "Electrical Circuits and Solar Cells Papers   Current theoretical models of electrical circuits suggest that they are\n",
        "expensive-formidable and efficient for designing and maintaining\n",
        "procedures. However, research on generating electrical circuits is limited because of\n",
        "significant constraints on the scale and complexity of design and distribution of\n",
        "conductors and solar cells and their efficiency as a whole. In this work, we\n",
        "propose a novel non-linear linear circuit design model, a\n",
        "calculable non-inverse linear circuit (NC-C) model to analyze the electrical\n",
        "circuits of different surfaces. We characterize the circuit design with empirical\n",
        "results to compare with prior experiments. As such, NC-C allows the\n",
        "development of circuits capable of generating electrical\n",
        "\n",
        "Electrical Circuits and Solar Cells Papers   Optical circuits (OCs) is defined as a\n",
        "single-atom, compact optical device that encodes energy at the point of\n",
        "the interaction. OSCs generate power by generating light from light-emitting\n",
        "controllers, where the energy is extracted by applying the signal\n",
        "from a photovoltaic generator. However, they are limited to generating light and\n",
        "concentration amounts to negligible levels. In this paper, we\n",
        "introduce optical circuits, which are the first to build an optical\n",
        "circuit. Our proposed optical circuits implement a conventional photovoltaic\n",
        "generator with conventional power sources and are able to reduce the\n",
        "power need for photovolt\n",
        "\n",
        "Electrical Circuits and Solar Cells Papers   Circuits, such as the central bank, allow the electronic and industrial\n",
        "regime to be monitored, and thus provide an easy way for the\n",
        "environmental regulators to monitor economic and political events through\n",
        "circuits. Circuits are made of two fundamental elements:\n",
        "(1) The ground level control of the circuit (the ground) and a\n",
        "temperature control (the temperature). The ground in the electrical circuit is\n",
        "an inner layer (the ground) that can be connected to the electrical circuits,\n",
        "and therefore contains electrical and chemical signals that can be\n",
        "controlled. The ground in the solar panel is a sensor and heat sensors that will\n",
        "monitor the temperature in the laboratory. The ground\n",
        "\n",
        "Electrical Circuits and Solar Cells Papers   This paper presents the first electrical circuits to be published in electronic papers in the last few years. In this paper, we study electro-chemical circuits, which are a natural building block for\n",
        "the current. Such circuits can be used as the basis for circuits developed by\n",
        "accelerating current generation, as a substitute for conventional\n",
        "current generators, and to enable an extended range of applications. We\n",
        "first conduct an exploration of electrical circuits and solar cells using\n",
        "computationally simple computer simulations. The simulations show that this\n",
        "paper has high potential for application to all practical purposes. Finally, due\n",
        "to their design in nature, the simulation presents multiple potential applications in\n",
        "design of practical electronic circuits.\n",
        "\n",
        "Electrical Circuits and Solar Cells Papers For Experimental Fusion\n",
        "  Applications in Physics, Physiology and Mathematics   Recent progress has been made by using experimental magnetic\n",
        "circuits among a few materials in numerical simulations to study\n",
        "and validate their electrical properties. While this area of research\n",
        "is not necessarily a good candidate for the application of electric physics,\n",
        "the application of solar cell in science and engineering is also still open, for instance\n",
        "in the work in biology of a type of light-driven superconductivity. In this paper,\n",
        "(i) the first experiments to support the use of electric circuits as an\n",
        "architecture of the electrostatic fusion of the two electrostatic\n",
        "structure based on solar cells in the literature and (\n",
        "\"\"\""
      ],
      "metadata": {
        "id": "dKcGt7S3qylg"
      },
      "execution_count": null,
      "outputs": []
    },
    {
      "cell_type": "code",
      "source": [
        "print(f\"Perplexity: {calculate_perplexity(generated_text, model, tokenizer)}\")"
      ],
      "metadata": {
        "colab": {
          "base_uri": "https://localhost:8080/"
        },
        "id": "aTYfpYNYgkQv",
        "outputId": "3be9bd0d-bbc0-44f1-90c0-a78c355e5dbf"
      },
      "execution_count": null,
      "outputs": [
        {
          "output_type": "stream",
          "name": "stdout",
          "text": [
            "Perplexity: 14.133881568908691\n"
          ]
        }
      ]
    },
    {
      "cell_type": "markdown",
      "source": [
        "Loss Graph - For Fine Tuning"
      ],
      "metadata": {
        "id": "_ms5eFMkhWcH"
      }
    },
    {
      "cell_type": "code",
      "source": [
        "import matplotlib.pyplot as plt\n",
        "import numpy as np"
      ],
      "metadata": {
        "id": "reycTVIPhWNX"
      },
      "execution_count": 2,
      "outputs": []
    },
    {
      "cell_type": "code",
      "source": [
        "Loss = [1.678558111190796, 1.6851688623428345, 1.3869553804397583, 1.5436750650405884]\n",
        "plt.figure(figsize=(10,5))\n",
        "plt.title(\"Model Loss During Training\")\n",
        "plt.plot(Loss, label=\"Loss\")\n",
        "plt.xlabel(\"Epochs\")\n",
        "plt.ylabel(\"Loss\")\n",
        "plt.legend()\n",
        "plt.show()"
      ],
      "metadata": {
        "colab": {
          "base_uri": "https://localhost:8080/",
          "height": 487
        },
        "id": "ftghFus6kP9l",
        "outputId": "0320ebec-06d8-439d-ee14-9cbd8c639f8a"
      },
      "execution_count": null,
      "outputs": [
        {
          "output_type": "display_data",
          "data": {
            "text/plain": [
              "<Figure size 1000x500 with 1 Axes>"
            ],
            "image/png": "[encoded data removed]"
          },
          "metadata": {}
        }
      ]
    }
  ]
}